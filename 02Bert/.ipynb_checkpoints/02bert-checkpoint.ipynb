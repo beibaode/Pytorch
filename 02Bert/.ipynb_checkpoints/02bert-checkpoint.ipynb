{
 "cells": [
  {
   "cell_type": "markdown",
   "id": "724752ea",
   "metadata": {},
   "source": [
    "# Tricks"
   ]
  },
  {
   "cell_type": "markdown",
   "id": "b31b158d",
   "metadata": {},
   "source": [
    "## Last 4 Layers Concatenating\n",
    "最后四层进行concat、mean或max等操作"
   ]
  },
  {
   "cell_type": "code",
   "execution_count": null,
   "id": "b1bcce90",
   "metadata": {},
   "outputs": [],
   "source": [
    "class LastFourModel(nn.Module):\n",
    "    \n",
    "    def __init__(self):\n",
    "        super().__init__()\n",
    "        \n",
    "        config = AutoConfig.from_pretrained(PRE_TRAINED_MODEL_NAME)\n",
    "        config.update({'output_hidden_states':True})\n",
    "        self.model = AutoModel.from_pretrained(PRE_TRAINED_MODEL_NAME, config=config)\n",
    "        self.linear = nn.Linear(4*HIDDEN_SIZE, n_classes)\n",
    "        \n",
    "    def forward(self, input_ids, attention_mask):\n",
    "        \n",
    "        outputs = self.model(input_ids, attention_mask)\n",
    "        all_hidden_states = torch.stack(outputs[2])\n",
    "        concatenate_pooling = torch.cat(\n",
    "            (all_hidden_states[-1], all_hidden_states[-2], all_hidden_states[-3], all_hidden_states[-4]), -1\n",
    "        )\n",
    "        concatenate_pooling = concatenate_pooling[:,0]\n",
    "        output = self.linear(concatenate_pooling)\n",
    "        \n",
    "        return soutput"
   ]
  },
  {
   "cell_type": "markdown",
   "id": "da220c9c",
   "metadata": {},
   "source": [
    "## 模型层间差分学习率"
   ]
  },
  {
   "cell_type": "code",
   "execution_count": null,
   "id": "7b3a94b6",
   "metadata": {},
   "outputs": [],
   "source": [
    "def get_parameters(model, model_init_lr, multiplier, classifier_lr):\n",
    "    parameters = []\n",
    "    lr = model_init_lr\n",
    "    for layer in range(12,-1,-1):\n",
    "        layer_params = {\n",
    "            'params': [p for n,p in model.named_parameters() if f'encoder.layer.{layer}.' in n],\n",
    "            'lr': lr\n",
    "        }\n",
    "        parameters.append(layer_params)\n",
    "        lr *= multiplier\n",
    "    classifier_params = {\n",
    "        'params': [p for n,p in model.named_parameters() if 'layer_norm' in n or 'linear' in n \n",
    "                   or 'pooling' in n],\n",
    "        'lr': classifier_lr\n",
    "    }\n",
    "    parameters.append(classifier_params)\n",
    "    return parameters\n",
    "parameters=get_parameters(model,2e-5,0.95, 1e-4)\n",
    "optimizer=AdamW(parameters)"
   ]
  },
  {
   "cell_type": "markdown",
   "id": "520e7002",
   "metadata": {},
   "source": [
    "## ITPT"
   ]
  },
  {
   "cell_type": "code",
   "execution_count": null,
   "id": "db23d792",
   "metadata": {},
   "outputs": [],
   "source": [
    "import warnings\n",
    "import pandas as pd\n",
    "from transformers import (AutoModelForMaskedLM,\n",
    "                          AutoTokenizer, LineByLineTextDataset,\n",
    "                          DataCollatorForLanguageModeling,\n",
    "                          Trainer, TrainingArguments)\n",
    "\n",
    "warnings.filterwarnings('ignore')\n",
    "\n",
    "train_data = pd.read_csv('data/train/train.csv', sep='\\t')\n",
    "test_data = pd.read_csv('data/test/test.csv', sep='\\t')\n",
    "train_data['text'] = train_data['title'] + '.' + train_data['abstract']\n",
    "test_data['text'] = test_data['title'] + '.' + test_data['abstract']\n",
    "data = pd.concat([train_data, test_data])\n",
    "data['text'] = data['text'].apply(lambda x: x.replace('\\n', ''))\n",
    "\n",
    "text = '\\n'.join(data.text.tolist())\n",
    "\n",
    "with open('text.txt', 'w') as f:\n",
    "    f.write(text)\n",
    "\n",
    "model_name = 'roberta-base'\n",
    "model = AutoModelForMaskedLM.from_pretrained(model_name)\n",
    "tokenizer = AutoTokenizer.from_pretrained(model_name)\n",
    "tokenizer.save_pretrained('./paper_roberta_base')\n",
    "\n",
    "train_dataset = LineByLineTextDataset(\n",
    "    tokenizer=tokenizer,\n",
    "    file_path=\"text.txt\",  # mention train text file here\n",
    "    block_size=256)\n",
    "\n",
    "valid_dataset = LineByLineTextDataset(\n",
    "    tokenizer=tokenizer,\n",
    "    file_path=\"text.txt\",  # mention valid text file here\n",
    "    block_size=256)\n",
    "\n",
    "data_collator = DataCollatorForLanguageModeling(\n",
    "    tokenizer=tokenizer, mlm=True, mlm_probability=0.15)\n",
    "\n",
    "training_args = TrainingArguments(\n",
    "    output_dir=\"./paper_roberta_base_chk\",  # select model path for checkpoint\n",
    "    overwrite_output_dir=True,\n",
    "    num_train_epochs=5,# 轮数不要设置的太大\n",
    "    per_device_train_batch_size=16,\n",
    "    per_device_eval_batch_size=16,\n",
    "    gradient_accumulation_steps=2,\n",
    "    evaluation_strategy='steps',\n",
    "    save_total_limit=2,\n",
    "    eval_steps=200,\n",
    "    metric_for_best_model='eval_loss',\n",
    "    greater_is_better=False,\n",
    "    load_best_model_at_end=True,\n",
    "    prediction_loss_only=True,\n",
    "    report_to=\"none\")\n",
    "\n",
    "trainer = Trainer(\n",
    "    model=model,\n",
    "    args=training_args,\n",
    "    data_collator=data_collator,\n",
    "    train_dataset=train_dataset,\n",
    "    eval_dataset=valid_dataset)\n",
    "\n",
    "trainer.train()\n",
    "trainer.save_model(f'./paper_roberta_base')"
   ]
  }
 ],
 "metadata": {
  "kernelspec": {
   "display_name": "Python 3",
   "language": "python",
   "name": "python3"
  },
  "language_info": {
   "codemirror_mode": {
    "name": "ipython",
    "version": 3
   },
   "file_extension": ".py",
   "mimetype": "text/x-python",
   "name": "python",
   "nbconvert_exporter": "python",
   "pygments_lexer": "ipython3",
   "version": "3.9.7"
  }
 },
 "nbformat": 4,
 "nbformat_minor": 5
}
