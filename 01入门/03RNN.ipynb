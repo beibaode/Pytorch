{
 "cells": [
  {
   "cell_type": "markdown",
   "metadata": {},
   "source": [
    "## 0. 基础篇"
   ]
  },
  {
   "cell_type": "code",
   "execution_count": null,
   "metadata": {},
   "outputs": [],
   "source": [
    "import torch"
   ]
  },
  {
   "cell_type": "code",
   "execution_count": null,
   "metadata": {},
   "outputs": [],
   "source": [
    "batch_size=1  # 批量前向后向传播的数量\n",
    "seq_len=3  # 相当于每个句子的长度\n",
    "input_size=4  # 总共多少个句子\n",
    "hidden_size=2  # 隐层单元数量\n",
    "num_layers=1  # RNN层数"
   ]
  },
  {
   "cell_type": "code",
   "execution_count": null,
   "metadata": {},
   "outputs": [],
   "source": [
    "# 数据处理\n",
    "inputs=torch.randn(seq_len,batch_size,input_size)\n",
    "hidden=torch.zeros(num_layers,batch_size,hidden_size)  # input(seqSize,batch,input_size) hidden(numLayers,batch,hidden_size)"
   ]
  },
  {
   "cell_type": "code",
   "execution_count": null,
   "metadata": {},
   "outputs": [],
   "source": [
    "# 模型定义\n",
    "cell=torch.nn.RNN(input_size=input_size,hidden_size=hidden_size,num_layers=num_layers)  # 记住这三个参数"
   ]
  },
  {
   "cell_type": "code",
   "execution_count": null,
   "metadata": {},
   "outputs": [],
   "source": [
    "out,hidden=cell(inputs,hidden)  "
   ]
  },
  {
   "cell_type": "code",
   "execution_count": null,
   "metadata": {},
   "outputs": [],
   "source": [
    "print(out)\n",
    "print(hidden)"
   ]
  },
  {
   "cell_type": "markdown",
   "metadata": {},
   "source": [
    "注：具体应用，请结合实际情况\n",
    "https://www.bilibili.com/video/BV1Y7411d7Ys?p=12"
   ]
  }
 ],
 "metadata": {
  "kernelspec": {
   "display_name": "Python 3",
   "language": "python",
   "name": "python3"
  },
  "language_info": {
   "codemirror_mode": {
    "name": "ipython",
    "version": 3
   },
   "file_extension": ".py",
   "mimetype": "text/x-python",
   "name": "python",
   "nbconvert_exporter": "python",
   "pygments_lexer": "ipython3",
   "version": "3.9.7"
  }
 },
 "nbformat": 4,
 "nbformat_minor": 1
}
