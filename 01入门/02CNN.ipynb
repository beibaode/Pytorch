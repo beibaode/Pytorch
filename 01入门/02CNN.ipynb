{
 "cells": [
  {
   "cell_type": "markdown",
   "metadata": {},
   "source": [
    "## 0. 基础篇"
   ]
  },
  {
   "cell_type": "code",
   "execution_count": 1,
   "metadata": {},
   "outputs": [],
   "source": [
    "import torch\n",
    "from torchvision import transforms\n",
    "from torchvision import datasets\n",
    "from torch.utils.data import DataLoader\n",
    "import torch.nn.functional as F\n",
    "import torch.optim as optim"
   ]
  },
  {
   "cell_type": "code",
   "execution_count": 2,
   "metadata": {},
   "outputs": [],
   "source": [
    "batch_size=64\n",
    "transform=transforms.Compose([transforms.ToTensor(),transforms.Normalize((0.1307,),(0.3081,))])  # 均值&标准差\n",
    "train=datasets.MNIST(root='./data/StartData/mnist',train=True,download=True,transform=transform)\n",
    "train_loader=DataLoader(train,shuffle=True,batch_size=batch_size)\n",
    "test=datasets.MNIST(root='./data/StartData/mnist',train=False,download=True,transform=transform)\n",
    "test_loader=DataLoader(test,shuffle=False,batch_size=batch_size)"
   ]
  },
  {
   "cell_type": "code",
   "execution_count": 3,
   "metadata": {},
   "outputs": [
    {
     "data": {
      "text/plain": [
       "Net(\n",
       "  (conv1): Conv2d(1, 10, kernel_size=(5, 5), stride=(1, 1))\n",
       "  (conv2): Conv2d(10, 20, kernel_size=(5, 5), stride=(1, 1))\n",
       "  (pooling): MaxPool2d(kernel_size=2, stride=2, padding=0, dilation=1, ceil_mode=False)\n",
       "  (fc): Linear(in_features=320, out_features=10, bias=True)\n",
       ")"
      ]
     },
     "execution_count": 3,
     "metadata": {},
     "output_type": "execute_result"
    }
   ],
   "source": [
    "class Net(torch.nn.Module):\n",
    "    def __init__(self):\n",
    "        super(Net,self).__init__()\n",
    "        self.conv1=torch.nn.Conv2d(1,10,kernel_size=5)\n",
    "        self.conv2=torch.nn.Conv2d(10,20,kernel_size=5)\n",
    "        self.pooling=torch.nn.MaxPool2d(2)\n",
    "        self.fc=torch.nn.Linear(320,10)\n",
    "    \n",
    "    def forward(self,x):\n",
    "        # Flatten data from (n,1,28,28) to (n,784)\n",
    "        batch_size=x.size(0)  # 与之前多了个batchsize，注意！\n",
    "        x=F.relu(self.pooling(self.conv1(x)))\n",
    "        x=F.relu(self.pooling(self.conv2(x)))\n",
    "        x=x.view(batch_size,-1)  # 这里是将特征信息进行linear方式的拼接\n",
    "        x=self.fc(x)\n",
    "        return x  # 最后一层不激活，因为CrossEntropy\n",
    "\n",
    "model=Net()\n",
    "device=torch.device(\"cuda:0\" if torch.cuda.is_available() else \"cpu\")\n",
    "model.to(device)"
   ]
  },
  {
   "cell_type": "code",
   "execution_count": 4,
   "metadata": {},
   "outputs": [],
   "source": [
    "criterion=torch.nn.CrossEntropyLoss()\n",
    "optimizer=optim.SGD(model.parameters(),lr=0.01,momentum=0.5)  # 冲量momentum优化训练过程(下降很快，冲破局部极小值)"
   ]
  },
  {
   "cell_type": "code",
   "execution_count": 5,
   "metadata": {},
   "outputs": [],
   "source": [
    "def train(epoch):\n",
    "    running_loss=0.0\n",
    "    for batch_idx,data in enumerate(train_loader,0):\n",
    "        inputs,labels=data\n",
    "        inputs,labels=inputs.to(device),labels.to(device)\n",
    "        optimizer.zero_grad()\n",
    "        \n",
    "        outputs=model(inputs)\n",
    "        loss=criterion(outputs,labels)\n",
    "        loss.backward()\n",
    "        optimizer.step()\n",
    "        \n",
    "        running_loss+=loss.item()\n",
    "        if batch_idx%300==299:\n",
    "            print('[%d,%5d] loss:%.3f'%(epoch+1,batch_idx+1,running_loss/300))\n",
    "            running_loss=0.0"
   ]
  },
  {
   "cell_type": "code",
   "execution_count": 6,
   "metadata": {},
   "outputs": [],
   "source": [
    "def test():\n",
    "    correct=0\n",
    "    total=0\n",
    "    with torch.no_grad():\n",
    "        for data in test_loader:\n",
    "            images,labels=data\n",
    "            images,labels=images.to(device),labels.to(device)\n",
    "            outputs=model(images)\n",
    "            _,predicted=torch.max(outputs.data,dim=1)\n",
    "            total+=labels.size(0)\n",
    "            correct+=(predicted==labels).sum().item()\n",
    "    print('Accuracy on test set:%d %%'%(100*correct/total))"
   ]
  },
  {
   "cell_type": "code",
   "execution_count": 7,
   "metadata": {},
   "outputs": [
    {
     "name": "stdout",
     "output_type": "stream",
     "text": [
      "[1,  300] loss:0.654\n",
      "[1,  600] loss:0.185\n",
      "[1,  900] loss:0.133\n",
      "Accuracy on test set:96 %\n",
      "[2,  300] loss:0.106\n",
      "[2,  600] loss:0.097\n",
      "[2,  900] loss:0.086\n",
      "Accuracy on test set:97 %\n",
      "[3,  300] loss:0.077\n",
      "[3,  600] loss:0.070\n",
      "[3,  900] loss:0.072\n",
      "Accuracy on test set:98 %\n",
      "[4,  300] loss:0.059\n",
      "[4,  600] loss:0.067\n",
      "[4,  900] loss:0.059\n",
      "Accuracy on test set:98 %\n",
      "[5,  300] loss:0.052\n",
      "[5,  600] loss:0.057\n",
      "[5,  900] loss:0.056\n",
      "Accuracy on test set:98 %\n",
      "[6,  300] loss:0.048\n",
      "[6,  600] loss:0.046\n",
      "[6,  900] loss:0.051\n",
      "Accuracy on test set:98 %\n",
      "[7,  300] loss:0.041\n",
      "[7,  600] loss:0.044\n",
      "[7,  900] loss:0.048\n",
      "Accuracy on test set:98 %\n",
      "[8,  300] loss:0.041\n",
      "[8,  600] loss:0.042\n",
      "[8,  900] loss:0.041\n",
      "Accuracy on test set:98 %\n",
      "[9,  300] loss:0.040\n",
      "[9,  600] loss:0.036\n",
      "[9,  900] loss:0.042\n",
      "Accuracy on test set:98 %\n",
      "[10,  300] loss:0.035\n",
      "[10,  600] loss:0.034\n",
      "[10,  900] loss:0.040\n",
      "Accuracy on test set:98 %\n"
     ]
    }
   ],
   "source": [
    "if __name__=='__main__':\n",
    "    for epoch in range(10):\n",
    "        train(epoch)\n",
    "        test()"
   ]
  },
  {
   "cell_type": "markdown",
   "metadata": {},
   "source": [
    "## 1. 高级篇\n",
    "* GoogleNet\n",
    "* ResNet"
   ]
  },
  {
   "cell_type": "markdown",
   "metadata": {},
   "source": [
    "### 1.1 GoogleNet"
   ]
  },
  {
   "cell_type": "code",
   "execution_count": 1,
   "metadata": {},
   "outputs": [],
   "source": [
    "import torch\n",
    "from torchvision import transforms\n",
    "from torchvision import datasets\n",
    "from torch.utils.data import DataLoader\n",
    "import torch.nn.functional as F\n",
    "import torch.optim as optim"
   ]
  },
  {
   "cell_type": "code",
   "execution_count": 2,
   "metadata": {},
   "outputs": [],
   "source": [
    "batch_size=64\n",
    "transform=transforms.Compose([transforms.ToTensor(),transforms.Normalize((0.1307,),(0.3081,))])  # 均值&标准差\n",
    "train=datasets.MNIST(root='./data/StartData/mnist',train=True,download=True,transform=transform)\n",
    "train_loader=DataLoader(train,shuffle=True,batch_size=batch_size)\n",
    "test=datasets.MNIST(root='./data/StartData/mnist',train=False,download=True,transform=transform)\n",
    "test_loader=DataLoader(test,shuffle=False,batch_size=batch_size)"
   ]
  },
  {
   "cell_type": "code",
   "execution_count": 3,
   "metadata": {},
   "outputs": [],
   "source": [
    "class InceptionA(torch.nn.Module):\n",
    "    def __init__(self,in_channels):\n",
    "        super(InceptionA,self).__init__()\n",
    "        self.branch1x1=torch.nn.Conv2d(in_channels,16,kernel_size=1)\n",
    "        \n",
    "        self.branch5x5_1=torch.nn.Conv2d(in_channels,16,kernel_size=1)\n",
    "        self.branch5x5_2=torch.nn.Conv2d(16,24,kernel_size=5,padding=2)\n",
    "        \n",
    "        self.branch3x3_1=torch.nn.Conv2d(in_channels,16,kernel_size=1)\n",
    "        self.branch3x3_2=torch.nn.Conv2d(16,24,kernel_size=3,padding=1)\n",
    "        self.branch3x3_3=torch.nn.Conv2d(24,24,kernel_size=3,padding=1)\n",
    "        \n",
    "        self.branch_pool=torch.nn.Conv2d(in_channels,24,kernel_size=1)\n",
    "        \n",
    "    def forward(self,x):\n",
    "        branch1x1=self.branch1x1(x)\n",
    "        \n",
    "        branch5x5=self.branch5x5_1(x)\n",
    "        branch5x5=self.branch5x5_2(branch5x5)\n",
    "        \n",
    "        branch3x3=self.branch3x3_1(x)\n",
    "        branch3x3=self.branch3x3_2(branch3x3)\n",
    "        branch3x3=self.branch3x3_3(branch3x3)\n",
    "        \n",
    "        branch_pool=F.avg_pool2d(x,kernel_size=3,stride=1,padding=1)\n",
    "        branch_pool=self.branch_pool(branch_pool)\n",
    "        \n",
    "        outputs=[branch1x1,branch5x5,branch3x3,branch_pool]\n",
    "        \n",
    "        return torch.cat(outputs,dim=1)\n",
    "    \n",
    "class Net(torch.nn.Module):\n",
    "    def __init__(self):\n",
    "        super(Net,self).__init__()\n",
    "        self.conv1=torch.nn.Conv2d(1,10,kernel_size=5)\n",
    "        self.conv2=torch.nn.Conv2d(88,20,kernel_size=5)\n",
    "        \n",
    "        self.incep1=InceptionA(in_channels=10)\n",
    "        self.incep2=InceptionA(in_channels=20)\n",
    "        \n",
    "        self.mp=torch.nn.MaxPool2d(2)\n",
    "        self.fc=torch.nn.Linear(1408,10)\n",
    "        \n",
    "    def forward(self,x):\n",
    "        batch_size=x.size(0)\n",
    "        x=F.relu(self.mp(self.conv1(x)))\n",
    "        x=self.incep1(x)\n",
    "        x=F.relu(self.mp(self.conv2(x)))\n",
    "        x=self.incep2(x)\n",
    "        x=x.view(batch_size,-1)\n",
    "        x=self.fc(x)\n",
    "        return x\n",
    "    \n",
    "model=Net()\n",
    "device=torch.device(\"cuda:0\" if torch.cuda.is_available() else \"cpu\")\n",
    "model.to(device)"
   ]
  },
  {
   "cell_type": "code",
   "execution_count": 5,
   "metadata": {},
   "outputs": [],
   "source": [
    "criterion=torch.nn.CrossEntropyLoss()\n",
    "optimizer=optim.SGD(model.parameters(),lr=0.01,momentum=0.5)  # 冲量momentum优化训练过程(下降很快，冲破局部极小值)"
   ]
  },
  {
   "cell_type": "code",
   "execution_count": 6,
   "metadata": {},
   "outputs": [],
   "source": [
    "def train(epoch):\n",
    "    running_loss=0.0\n",
    "    for batch_idx,data in enumerate(train_loader,0):\n",
    "        inputs,labels=data\n",
    "        inputs,labels=inputs.to(device),labels.to(device)\n",
    "        optimizer.zero_grad()\n",
    "        \n",
    "        outputs=model(inputs)\n",
    "        loss=criterion(outputs,labels)\n",
    "        loss.backward()\n",
    "        optimizer.step()\n",
    "        \n",
    "        running_loss+=loss.item()\n",
    "        if batch_idx%300==299:\n",
    "            print('[%d,%5d] loss:%.3f'%(epoch+1,batch_idx+1,running_loss/300))\n",
    "            running_loss=0.0\n",
    "\n",
    "def test():\n",
    "    correct=0\n",
    "    total=0\n",
    "    with torch.no_grad():\n",
    "        for data in test_loader:\n",
    "            images,labels=data\n",
    "            images,labels=images.to(device),labels.to(device)\n",
    "            outputs=model(images)\n",
    "            _,predicted=torch.max(outputs.data,dim=1)\n",
    "            total+=labels.size(0)\n",
    "            correct+=(predicted==labels).sum().item()\n",
    "    print('Accuracy on test set:%d %%'%(100*correct/total))"
   ]
  },
  {
   "cell_type": "code",
   "execution_count": 7,
   "metadata": {},
   "outputs": [
    {
     "name": "stdout",
     "output_type": "stream",
     "text": [
      "[1,  300] loss:0.796\n",
      "[1,  600] loss:0.205\n",
      "[1,  900] loss:0.137\n",
      "Accuracy on test set:96 %\n",
      "[2,  300] loss:0.109\n",
      "[2,  600] loss:0.100\n",
      "[2,  900] loss:0.095\n",
      "Accuracy on test set:97 %\n",
      "[3,  300] loss:0.082\n",
      "[3,  600] loss:0.078\n",
      "[3,  900] loss:0.073\n",
      "Accuracy on test set:97 %\n",
      "[4,  300] loss:0.068\n",
      "[4,  600] loss:0.061\n",
      "[4,  900] loss:0.065\n",
      "Accuracy on test set:98 %\n",
      "[5,  300] loss:0.054\n",
      "[5,  600] loss:0.056\n",
      "[5,  900] loss:0.060\n",
      "Accuracy on test set:98 %\n",
      "[6,  300] loss:0.051\n",
      "[6,  600] loss:0.048\n",
      "[6,  900] loss:0.055\n",
      "Accuracy on test set:98 %\n",
      "[7,  300] loss:0.046\n",
      "[7,  600] loss:0.046\n",
      "[7,  900] loss:0.044\n",
      "Accuracy on test set:98 %\n",
      "[8,  300] loss:0.045\n",
      "[8,  600] loss:0.041\n",
      "[8,  900] loss:0.039\n",
      "Accuracy on test set:98 %\n",
      "[9,  300] loss:0.035\n",
      "[9,  600] loss:0.037\n",
      "[9,  900] loss:0.042\n",
      "Accuracy on test set:98 %\n",
      "[10,  300] loss:0.034\n",
      "[10,  600] loss:0.036\n",
      "[10,  900] loss:0.037\n",
      "Accuracy on test set:98 %\n"
     ]
    }
   ],
   "source": [
    "if __name__=='__main__':\n",
    "    for epoch in range(10):\n",
    "        train(epoch)\n",
    "        test()"
   ]
  },
  {
   "cell_type": "markdown",
   "metadata": {},
   "source": [
    "### 1.2 ResNet"
   ]
  },
  {
   "cell_type": "code",
   "execution_count": 1,
   "metadata": {},
   "outputs": [],
   "source": [
    "import torch\n",
    "from torchvision import transforms\n",
    "from torchvision import datasets\n",
    "from torch.utils.data import DataLoader\n",
    "import torch.nn.functional as F\n",
    "import torch.optim as optim"
   ]
  },
  {
   "cell_type": "code",
   "execution_count": 2,
   "metadata": {},
   "outputs": [],
   "source": [
    "batch_size=64\n",
    "transform=transforms.Compose([transforms.ToTensor(),transforms.Normalize((0.1307,),(0.3081,))])  # 均值&标准差\n",
    "train=datasets.MNIST(root='./data/StartData/mnist',train=True,download=True,transform=transform)\n",
    "train_loader=DataLoader(train,shuffle=True,batch_size=batch_size)\n",
    "test=datasets.MNIST(root='./data/StartData/mnist',train=False,download=True,transform=transform)\n",
    "test_loader=DataLoader(test,shuffle=False,batch_size=batch_size)"
   ]
  },
  {
   "cell_type": "code",
   "execution_count": 3,
   "metadata": {},
   "outputs": [
    {
     "data": {
      "text/plain": [
       "Net(\n",
       "  (conv1): Conv2d(1, 16, kernel_size=(5, 5), stride=(1, 1))\n",
       "  (conv2): Conv2d(16, 32, kernel_size=(5, 5), stride=(1, 1))\n",
       "  (mp): MaxPool2d(kernel_size=2, stride=2, padding=0, dilation=1, ceil_mode=False)\n",
       "  (rblock1): ResidualBlock(\n",
       "    (conv1): Conv2d(16, 16, kernel_size=(3, 3), stride=(1, 1), padding=(1, 1))\n",
       "    (conv2): Conv2d(16, 16, kernel_size=(3, 3), stride=(1, 1), padding=(1, 1))\n",
       "  )\n",
       "  (rblock2): ResidualBlock(\n",
       "    (conv1): Conv2d(32, 32, kernel_size=(3, 3), stride=(1, 1), padding=(1, 1))\n",
       "    (conv2): Conv2d(32, 32, kernel_size=(3, 3), stride=(1, 1), padding=(1, 1))\n",
       "  )\n",
       "  (fc): Linear(in_features=512, out_features=10, bias=True)\n",
       ")"
      ]
     },
     "execution_count": 3,
     "metadata": {},
     "output_type": "execute_result"
    }
   ],
   "source": [
    "class ResidualBlock(torch.nn.Module):\n",
    "    def __init__(self,channels):\n",
    "        super(ResidualBlock,self).__init__()\n",
    "        self.channels=channels\n",
    "        self.conv1=torch.nn.Conv2d(channels,channels,kernel_size=3,padding=1)\n",
    "        self.conv2=torch.nn.Conv2d(channels,channels,kernel_size=3,padding=1)\n",
    "        \n",
    "    def forward(self,x):\n",
    "        y=F.relu(self.conv1(x))\n",
    "        y=self.conv2(y)\n",
    "        return F.relu(x+y)\n",
    "    \n",
    "class Net(torch.nn.Module):\n",
    "    def __init__(self):\n",
    "        super(Net,self).__init__()\n",
    "        self.conv1=torch.nn.Conv2d(1,16,kernel_size=5)\n",
    "        self.conv2=torch.nn.Conv2d(16,32,kernel_size=5)\n",
    "        self.mp=torch.nn.MaxPool2d(2)\n",
    "        \n",
    "        self.rblock1=ResidualBlock(16)\n",
    "        self.rblock2=ResidualBlock(32)\n",
    "        self.fc=torch.nn.Linear(512,10)\n",
    "        \n",
    "    def forward(self,x):\n",
    "        batch_size=x.size(0)\n",
    "        x=self.mp(F.relu(self.conv1(x)))\n",
    "        x=self.rblock1(x)\n",
    "        x=self.mp(F.relu(self.conv2(x)))\n",
    "        x=self.rblock2(x)\n",
    "        x=x.view(batch_size,-1)\n",
    "        x=self.fc(x)\n",
    "        return x\n",
    "    \n",
    "model=Net()\n",
    "device=torch.device(\"cuda:0\" if torch.cuda.is_available() else \"cpu\")\n",
    "model.to(device)"
   ]
  },
  {
   "cell_type": "code",
   "execution_count": 4,
   "metadata": {},
   "outputs": [],
   "source": [
    "criterion=torch.nn.CrossEntropyLoss()\n",
    "optimizer=optim.SGD(model.parameters(),lr=0.1,momentum=0.5)  # 冲量momentum优化训练过程(下降很快，冲破局部极小值)"
   ]
  },
  {
   "cell_type": "code",
   "execution_count": 5,
   "metadata": {},
   "outputs": [],
   "source": [
    "def train(epoch):\n",
    "    running_loss=0.0\n",
    "    for batch_idx,data in enumerate(train_loader,0):\n",
    "        inputs,labels=data\n",
    "        inputs,labels=inputs.to(device),labels.to(device)\n",
    "        optimizer.zero_grad()\n",
    "        \n",
    "        outputs=model(inputs)\n",
    "        loss=criterion(outputs,labels)\n",
    "        loss.backward()\n",
    "        optimizer.step()\n",
    "        \n",
    "        running_loss+=loss.item()\n",
    "        if batch_idx%300==299:\n",
    "            print('[%d,%5d] loss:%.3f'%(epoch+1,batch_idx+1,running_loss/300))\n",
    "            running_loss=0.0\n",
    "\n",
    "def test():\n",
    "    correct=0\n",
    "    total=0\n",
    "    with torch.no_grad():\n",
    "        for data in test_loader:\n",
    "            images,labels=data\n",
    "            images,labels=images.to(device),labels.to(device)\n",
    "            outputs=model(images)\n",
    "            _,predicted=torch.max(outputs.data,dim=1)\n",
    "            total+=labels.size(0)\n",
    "            correct+=(predicted==labels).sum().item()\n",
    "    print('Accuracy on test set:%d %%'%(100*correct/total))"
   ]
  },
  {
   "cell_type": "code",
   "execution_count": 6,
   "metadata": {},
   "outputs": [
    {
     "name": "stdout",
     "output_type": "stream",
     "text": [
      "[1,  300] loss:0.230\n",
      "[1,  600] loss:0.079\n",
      "[1,  900] loss:0.064\n",
      "Accuracy on test set:98 %\n",
      "[2,  300] loss:0.042\n",
      "[2,  600] loss:0.039\n",
      "[2,  900] loss:0.038\n",
      "Accuracy on test set:98 %\n",
      "[3,  300] loss:0.028\n",
      "[3,  600] loss:0.027\n",
      "[3,  900] loss:0.030\n",
      "Accuracy on test set:98 %\n",
      "[4,  300] loss:0.018\n",
      "[4,  600] loss:0.023\n",
      "[4,  900] loss:0.024\n",
      "Accuracy on test set:99 %\n",
      "[5,  300] loss:0.016\n",
      "[5,  600] loss:0.016\n",
      "[5,  900] loss:0.014\n",
      "Accuracy on test set:99 %\n",
      "[6,  300] loss:0.011\n",
      "[6,  600] loss:0.014\n",
      "[6,  900] loss:0.014\n",
      "Accuracy on test set:99 %\n",
      "[7,  300] loss:0.008\n",
      "[7,  600] loss:0.015\n",
      "[7,  900] loss:0.013\n",
      "Accuracy on test set:99 %\n",
      "[8,  300] loss:0.006\n",
      "[8,  600] loss:0.008\n",
      "[8,  900] loss:0.010\n",
      "Accuracy on test set:99 %\n",
      "[9,  300] loss:0.006\n",
      "[9,  600] loss:0.004\n",
      "[9,  900] loss:0.012\n",
      "Accuracy on test set:99 %\n",
      "[10,  300] loss:0.005\n",
      "[10,  600] loss:0.005\n",
      "[10,  900] loss:0.008\n",
      "Accuracy on test set:99 %\n"
     ]
    }
   ],
   "source": [
    "if __name__=='__main__':\n",
    "    for epoch in range(10):\n",
    "        train(epoch)\n",
    "        test()"
   ]
  }
 ],
 "metadata": {
  "kernelspec": {
   "display_name": "Python 3",
   "language": "python",
   "name": "python3"
  },
  "language_info": {
   "codemirror_mode": {
    "name": "ipython",
    "version": 3
   },
   "file_extension": ".py",
   "mimetype": "text/x-python",
   "name": "python",
   "nbconvert_exporter": "python",
   "pygments_lexer": "ipython3",
   "version": "3.9.7"
  }
 },
 "nbformat": 4,
 "nbformat_minor": 1
}
