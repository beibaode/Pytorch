{
 "cells": [
  {
   "cell_type": "markdown",
   "metadata": {},
   "source": [
    "## 0. 基础篇"
   ]
  },
  {
   "cell_type": "code",
   "execution_count": null,
   "metadata": {},
   "outputs": [],
   "source": [
    "import torch\n",
    "from torchvision import transforms\n",
    "from torchvision import datasets\n",
    "from torch.utils.data import DataLoader\n",
    "import torch.nn.functional as F\n",
    "import torch.optim as optim"
   ]
  },
  {
   "cell_type": "code",
   "execution_count": null,
   "metadata": {},
   "outputs": [],
   "source": [
    "batch_size=64\n",
    "transform=transforms.Compose([transforms.ToTensor(),transforms.Normalize((0.1307,),(0.3081,))])  # 均值&标准差\n",
    "train=datasets.MNIST(root='./data/StartData/mnist',train=True,download=True,transform=transform)\n",
    "train_loader=DataLoader(train,shuffle=True,batch_size=batch_size)\n",
    "test=datasets.MNIST(root='./data/StartData/mnist',train=False,download=True,transform=transform)\n",
    "test_loader=DataLoader(test,shuffle=False,batch_size=batch_size)"
   ]
  },
  {
   "cell_type": "code",
   "execution_count": null,
   "metadata": {},
   "outputs": [],
   "source": [
    "class Net(torch.nn.Module):\n",
    "    def __init__(self):\n",
    "        super(Net,self).__init__()\n",
    "        self.conv1=torch.nn.Conv2d(1,10,kernel_size=5)\n",
    "        self.conv2=torch.nn.Conv2d(10,20,kernel_size=5)\n",
    "        self.pooling=torch.nn.MaxPool2d(2)\n",
    "        self.fc=torch.nn.Linear(320,10)\n",
    "    \n",
    "    def forward(self,x):\n",
    "        # Flatten data from (n,1,28,28) to (n,784)\n",
    "        batch_size=x.size(0)  # 与之前多了个batchsize，注意！\n",
    "        x=F.relu(self.pooling(self.conv1(x)))\n",
    "        x=F.relu(self.pooling(self.conv2(x)))\n",
    "        x=x.view(batch_size,-1)  # 这里是将特征信息进行linear方式的拼接\n",
    "        x=self.fc(x)\n",
    "        return x  # 最后一层不激活，因为CrossEntropy\n",
    "\n",
    "model=Net()\n",
    "device=torch.device(\"cuda:0\" if torch.cuda.is_available() else \"cpu\")\n",
    "model.to(device)"
   ]
  },
  {
   "cell_type": "code",
   "execution_count": null,
   "metadata": {},
   "outputs": [],
   "source": [
    "criterion=torch.nn.CrossEntropyLoss()\n",
    "optimizer=optim.SGD(model.parameters(),lr=0.01,momentum=0.5)  # 冲量momentum优化训练过程(下降很快，冲破局部极小值)"
   ]
  },
  {
   "cell_type": "code",
   "execution_count": null,
   "metadata": {},
   "outputs": [],
   "source": [
    "def train(epoch):\n",
    "    running_loss=0.0\n",
    "    for batch_idx,data in enumerate(train_loader,0):\n",
    "        inputs,labels=data\n",
    "        inputs,labels=inputs.to(device),labels.to(device)\n",
    "        optimizer.zero_grad()\n",
    "        \n",
    "        outputs=model(inputs)\n",
    "        loss=criterion(outputs,labels)\n",
    "        loss.backward()\n",
    "        optimizer.step()\n",
    "        \n",
    "        running_loss+=loss.item()\n",
    "        if batch_idx%300==299:\n",
    "            print('[%d,%5d] loss:%.3f'%(epoch+1,batch_idx+1,running_loss/300))\n",
    "            running_loss=0.0"
   ]
  },
  {
   "cell_type": "code",
   "execution_count": null,
   "metadata": {},
   "outputs": [],
   "source": [
    "def test():\n",
    "    correct=0\n",
    "    total=0\n",
    "    with torch.no_grad():\n",
    "        for data in test_loader:\n",
    "            images,labels=data\n",
    "            images,labels=images.to(device),labels.to(device)\n",
    "            outputs=model(images)\n",
    "            _,predicted=torch.max(outputs.data,dim=1)\n",
    "            total+=labels.size(0)\n",
    "            correct+=(predicted==labels).sum().item()\n",
    "    print('Accuracy on test set:%d %%'%(100*correct/total))"
   ]
  },
  {
   "cell_type": "code",
   "execution_count": null,
   "metadata": {},
   "outputs": [],
   "source": [
    "if __name__=='__main__':\n",
    "    for epoch in range(10):\n",
    "        train(epoch)\n",
    "        test()"
   ]
  },
  {
   "cell_type": "markdown",
   "metadata": {},
   "source": [
    "## 1. 高级篇\n",
    "* GoogleNet\n",
    "* ResNet"
   ]
  },
  {
   "cell_type": "markdown",
   "metadata": {},
   "source": [
    "### 1.1 GoogleNet"
   ]
  },
  {
   "cell_type": "code",
   "execution_count": null,
   "metadata": {},
   "outputs": [],
   "source": [
    "import torch\n",
    "from torchvision import transforms\n",
    "from torchvision import datasets\n",
    "from torch.utils.data import DataLoader\n",
    "import torch.nn.functional as F\n",
    "import torch.optim as optim"
   ]
  },
  {
   "cell_type": "code",
   "execution_count": null,
   "metadata": {},
   "outputs": [],
   "source": [
    "batch_size=64\n",
    "transform=transforms.Compose([transforms.ToTensor(),transforms.Normalize((0.1307,),(0.3081,))])  # 均值&标准差\n",
    "train=datasets.MNIST(root='./data/StartData/mnist',train=True,download=True,transform=transform)\n",
    "train_loader=DataLoader(train,shuffle=True,batch_size=batch_size)\n",
    "test=datasets.MNIST(root='./data/StartData/mnist',train=False,download=True,transform=transform)\n",
    "test_loader=DataLoader(test,shuffle=False,batch_size=batch_size)"
   ]
  },
  {
   "cell_type": "code",
   "execution_count": null,
   "metadata": {},
   "outputs": [],
   "source": [
    "class InceptionA(torch.nn.Module):\n",
    "    def __init__(self,in_channels):\n",
    "        super(InceptionA,self).__init__()\n",
    "        self.branch1x1=torch.nn.Conv2d(in_channels,16,kernel_size=1)\n",
    "        \n",
    "        self.branch5x5_1=torch.nn.Conv2d(in_channels,16,kernel_size=1)\n",
    "        self.branch5x5_2=torch.nn.Conv2d(16,24,kernel_size=5,padding=2)\n",
    "        \n",
    "        self.branch3x3_1=torch.nn.Conv2d(in_channels,16,kernel_size=1)\n",
    "        self.branch3x3_2=torch.nn.Conv2d(16,24,kernel_size=3,padding=1)\n",
    "        self.branch3x3_3=torch.nn.Conv2d(24,24,kernel_size=3,padding=1)\n",
    "        \n",
    "        self.branch_pool=torch.nn.Conv2d(in_channels,24,kernel_size=1)\n",
    "        \n",
    "    def forward(self,x):\n",
    "        branch1x1=self.branch1x1(x)\n",
    "        \n",
    "        branch5x5=self.branch5x5_1(x)\n",
    "        branch5x5=self.branch5x5_2(branch5x5)\n",
    "        \n",
    "        branch3x3=self.branch3x3_1(x)\n",
    "        branch3x3=self.branch3x3_2(branch3x3)\n",
    "        branch3x3=self.branch3x3_3(branch3x3)\n",
    "        \n",
    "        branch_pool=F.avg_pool2d(x,kernel_size=3,stride=1,padding=1)\n",
    "        branch_pool=self.branch_pool(branch_pool)\n",
    "        \n",
    "        outputs=[branch1x1,branch5x5,branch3x3,branch_pool]\n",
    "        \n",
    "        return torch.cat(outputs,dim=1)\n",
    "    \n",
    "class Net(torch.nn.Module):\n",
    "    def __init__(self):\n",
    "        super(Net,self).__init__()\n",
    "        self.conv1=torch.nn.Conv2d(1,10,kernel_size=5)\n",
    "        self.conv2=torch.nn.Conv2d(88,20,kernel_size=5)\n",
    "        \n",
    "        self.incep1=InceptionA(in_channels=10)\n",
    "        self.incep2=InceptionA(in_channels=20)\n",
    "        \n",
    "        self.mp=torch.nn.MaxPool2d(2)\n",
    "        self.fc=torch.nn.Linear(1408,10)\n",
    "        \n",
    "    def forward(self,x):\n",
    "        batch_size=x.size(0)\n",
    "        x=F.relu(self.mp(self.conv1(x)))\n",
    "        x=self.incep1(x)\n",
    "        x=F.relu(self.mp(self.conv2(x)))\n",
    "        x=self.incep2(x)\n",
    "        x=x.view(batch_size,-1)\n",
    "        x=self.fc(x)\n",
    "        return x\n",
    "    \n",
    "model=Net()\n",
    "device=torch.device(\"cuda:0\" if torch.cuda.is_available() else \"cpu\")\n",
    "model.to(device)"
   ]
  },
  {
   "cell_type": "code",
   "execution_count": null,
   "metadata": {},
   "outputs": [],
   "source": [
    "criterion=torch.nn.CrossEntropyLoss()\n",
    "optimizer=optim.SGD(model.parameters(),lr=0.01,momentum=0.5)  # 冲量momentum优化训练过程(下降很快，冲破局部极小值)"
   ]
  },
  {
   "cell_type": "code",
   "execution_count": null,
   "metadata": {},
   "outputs": [],
   "source": [
    "def train(epoch):\n",
    "    running_loss=0.0\n",
    "    for batch_idx,data in enumerate(train_loader,0):\n",
    "        inputs,labels=data\n",
    "        inputs,labels=inputs.to(device),labels.to(device)\n",
    "        optimizer.zero_grad()\n",
    "        \n",
    "        outputs=model(inputs)\n",
    "        loss=criterion(outputs,labels)\n",
    "        loss.backward()\n",
    "        optimizer.step()\n",
    "        \n",
    "        running_loss+=loss.item()\n",
    "        if batch_idx%300==299:\n",
    "            print('[%d,%5d] loss:%.3f'%(epoch+1,batch_idx+1,running_loss/300))\n",
    "            running_loss=0.0\n",
    "\n",
    "def test():\n",
    "    correct=0\n",
    "    total=0\n",
    "    with torch.no_grad():\n",
    "        for data in test_loader:\n",
    "            images,labels=data\n",
    "            images,labels=images.to(device),labels.to(device)\n",
    "            outputs=model(images)\n",
    "            _,predicted=torch.max(outputs.data,dim=1)\n",
    "            total+=labels.size(0)\n",
    "            correct+=(predicted==labels).sum().item()\n",
    "    print('Accuracy on test set:%d %%'%(100*correct/total))"
   ]
  },
  {
   "cell_type": "code",
   "execution_count": null,
   "metadata": {},
   "outputs": [],
   "source": [
    "if __name__=='__main__':\n",
    "    for epoch in range(10):\n",
    "        train(epoch)\n",
    "        test()"
   ]
  },
  {
   "cell_type": "markdown",
   "metadata": {},
   "source": [
    "### 1.2 ResNet"
   ]
  },
  {
   "cell_type": "code",
   "execution_count": null,
   "metadata": {},
   "outputs": [],
   "source": [
    "import torch\n",
    "from torchvision import transforms\n",
    "from torchvision import datasets\n",
    "from torch.utils.data import DataLoader\n",
    "import torch.nn.functional as F\n",
    "import torch.optim as optim"
   ]
  },
  {
   "cell_type": "code",
   "execution_count": null,
   "metadata": {},
   "outputs": [],
   "source": [
    "batch_size=64\n",
    "transform=transforms.Compose([transforms.ToTensor(),transforms.Normalize((0.1307,),(0.3081,))])  # 均值&标准差\n",
    "train=datasets.MNIST(root='./data/StartData/mnist',train=True,download=True,transform=transform)\n",
    "train_loader=DataLoader(train,shuffle=True,batch_size=batch_size)\n",
    "test=datasets.MNIST(root='./data/StartData/mnist',train=False,download=True,transform=transform)\n",
    "test_loader=DataLoader(test,shuffle=False,batch_size=batch_size)"
   ]
  },
  {
   "cell_type": "code",
   "execution_count": null,
   "metadata": {},
   "outputs": [],
   "source": [
    "class ResidualBlock(torch.nn.Module):\n",
    "    def __init__(self,channels):\n",
    "        super(ResidualBlock,self).__init__()\n",
    "        self.channels=channels\n",
    "        self.conv1=torch.nn.Conv2d(channels,channels,kernel_size=3,padding=1)\n",
    "        self.conv2=torch.nn.Conv2d(channels,channels,kernel_size=3,padding=1)\n",
    "        \n",
    "    def forward(self,x):\n",
    "        y=F.relu(self.conv1(x))\n",
    "        y=self.conv2(y)\n",
    "        return F.relu(x+y)\n",
    "    \n",
    "class Net(torch.nn.Module):\n",
    "    def __init__(self):\n",
    "        super(Net,self).__init__()\n",
    "        self.conv1=torch.nn.Conv2d(1,16,kernel_size=5)\n",
    "        self.conv2=torch.nn.Conv2d(16,32,kernel_size=5)\n",
    "        self.mp=torch.nn.MaxPool2d(2)\n",
    "        \n",
    "        self.rblock1=ResidualBlock(16)\n",
    "        self.rblock2=ResidualBlock(32)\n",
    "        self.fc=torch.nn.Linear(512,10)\n",
    "        \n",
    "    def forward(self,x):\n",
    "        batch_size=x.size(0)\n",
    "        x=self.mp(F.relu(self.conv1(x)))\n",
    "        x=self.rblock1(x)\n",
    "        x=self.mp(F.relu(self.conv2(x)))\n",
    "        x=self.rblock2(x)\n",
    "        x=x.view(batch_size,-1)\n",
    "        x=self.fc(x)\n",
    "        return x\n",
    "    \n",
    "model=Net()\n",
    "device=torch.device(\"cuda:0\" if torch.cuda.is_available() else \"cpu\")\n",
    "model.to(device)"
   ]
  },
  {
   "cell_type": "code",
   "execution_count": null,
   "metadata": {},
   "outputs": [],
   "source": [
    "criterion=torch.nn.CrossEntropyLoss()\n",
    "optimizer=optim.SGD(model.parameters(),lr=0.1,momentum=0.5)  # 冲量momentum优化训练过程(下降很快，冲破局部极小值)"
   ]
  },
  {
   "cell_type": "code",
   "execution_count": null,
   "metadata": {},
   "outputs": [],
   "source": [
    "def train(epoch):\n",
    "    running_loss=0.0\n",
    "    for batch_idx,data in enumerate(train_loader,0):\n",
    "        inputs,labels=data\n",
    "        inputs,labels=inputs.to(device),labels.to(device)\n",
    "        optimizer.zero_grad()\n",
    "        \n",
    "        outputs=model(inputs)\n",
    "        loss=criterion(outputs,labels)\n",
    "        loss.backward()\n",
    "        optimizer.step()\n",
    "        \n",
    "        running_loss+=loss.item()\n",
    "        if batch_idx%300==299:\n",
    "            print('[%d,%5d] loss:%.3f'%(epoch+1,batch_idx+1,running_loss/300))\n",
    "            running_loss=0.0\n",
    "\n",
    "def test():\n",
    "    correct=0\n",
    "    total=0\n",
    "    with torch.no_grad():\n",
    "        for data in test_loader:\n",
    "            images,labels=data\n",
    "            images,labels=images.to(device),labels.to(device)\n",
    "            outputs=model(images)\n",
    "            _,predicted=torch.max(outputs.data,dim=1)\n",
    "            total+=labels.size(0)\n",
    "            correct+=(predicted==labels).sum().item()\n",
    "    print('Accuracy on test set:%d %%'%(100*correct/total))"
   ]
  },
  {
   "cell_type": "code",
   "execution_count": null,
   "metadata": {},
   "outputs": [],
   "source": [
    "if __name__=='__main__':\n",
    "    for epoch in range(10):\n",
    "        train(epoch)\n",
    "        test()"
   ]
  }
 ],
 "metadata": {
  "kernelspec": {
   "display_name": "Python 3",
   "language": "python",
   "name": "python3"
  },
  "language_info": {
   "codemirror_mode": {
    "name": "ipython",
    "version": 3
   },
   "file_extension": ".py",
   "mimetype": "text/x-python",
   "name": "python",
   "nbconvert_exporter": "python",
   "pygments_lexer": "ipython3",
   "version": "3.9.7"
  }
 },
 "nbformat": 4,
 "nbformat_minor": 1
}
