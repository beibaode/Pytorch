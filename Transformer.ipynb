{
 "cells": [
  {
   "cell_type": "code",
   "execution_count": 3,
   "metadata": {},
   "outputs": [
    {
     "name": "stdout",
     "output_type": "stream",
     "text": [
      "torch.Size([10, 32, 512])\n"
     ]
    }
   ],
   "source": [
    "# 编码器部分\n",
    "import torch\n",
    "from torch import nn\n",
    "\n",
    "encoder_layer=nn.TransformerEncoderLayer(d_model=512,nhead=8)\n",
    "transformer_encoder=nn.TransformerEncoder(encoder_layer,num_layers=6)\n",
    "src=torch.rand(10,32,512)\n",
    "out=transformer_encoder(src)\n",
    "print(out.shape)"
   ]
  },
  {
   "cell_type": "code",
   "execution_count": 2,
   "metadata": {},
   "outputs": [
    {
     "name": "stdout",
     "output_type": "stream",
     "text": [
      "torch.Size([20, 32, 512])\n"
     ]
    }
   ],
   "source": [
    "# 解码器部分\n",
    "import torch\n",
    "from torch import nn\n",
    "decoder_layer=nn.TransformerDecoderLayer(d_model=512,nhead=8)\n",
    "transformer_decoder=nn.TransformerDecoder(decoder_layer,num_layers=6)\n",
    "memory=torch.rand(10,32,512)\n",
    "tgt=torch.rand(20,32,512)\n",
    "out=transformer_decoder(tgt,memory)\n",
    "print(out.shape)"
   ]
  },
  {
   "cell_type": "code",
   "execution_count": null,
   "metadata": {},
   "outputs": [],
   "source": []
  }
 ],
 "metadata": {
  "kernelspec": {
   "display_name": "Python 3",
   "language": "python",
   "name": "python3"
  },
  "language_info": {
   "codemirror_mode": {
    "name": "ipython",
    "version": 3
   },
   "file_extension": ".py",
   "mimetype": "text/x-python",
   "name": "python",
   "nbconvert_exporter": "python",
   "pygments_lexer": "ipython3",
   "version": "3.9.7"
  }
 },
 "nbformat": 4,
 "nbformat_minor": 1
}
